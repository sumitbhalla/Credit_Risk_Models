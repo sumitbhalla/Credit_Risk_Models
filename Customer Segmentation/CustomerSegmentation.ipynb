{
 "cells": [
  {
   "cell_type": "markdown",
   "id": "0d783452-af0a-4eb1-9cfc-c432579308a5",
   "metadata": {
    "id": "7d6d3130-a42f-40fb-a648-f224d08da484",
    "tags": []
   },
   "source": [
    "#Customer Segmentation Analysis"
   ]
  },
  {
   "cell_type": "code",
   "execution_count": null,
   "id": "838a4783-a0df-42c0-a103-a1f01c09bbd6",
   "metadata": {
    "id": "838a4783-a0df-42c0-a103-a1f01c09bbd6"
   },
   "outputs": [],
   "source": []
  }
 ],
 "metadata": {
  "kernelspec": {
   "display_name": "Python 3.9",
   "language": "python",
   "name": "python3"
  },
  "language_info": {
   "codemirror_mode": {
    "name": "ipython",
    "version": 3
   },
   "file_extension": ".py",
   "mimetype": "text/x-python",
   "name": "python",
   "nbconvert_exporter": "python",
   "pygments_lexer": "ipython3",
   "version": "3.9.7"
  }
 },
 "nbformat": 4,
 "nbformat_minor": 5
}
